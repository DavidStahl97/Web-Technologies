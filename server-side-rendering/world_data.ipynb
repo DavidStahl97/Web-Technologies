{
 "metadata": {
  "language_info": {
   "codemirror_mode": {
    "name": "ipython",
    "version": 3
   },
   "file_extension": ".py",
   "mimetype": "text/x-python",
   "name": "python",
   "nbconvert_exporter": "python",
   "pygments_lexer": "ipython3",
   "version": "3.8.5-final"
  },
  "orig_nbformat": 2,
  "kernelspec": {
   "name": "Python 3.8.5 64-bit ('Web-Technologies': conda)",
   "display_name": "Python 3.8.5 64-bit ('Web-Technologies': conda)",
   "metadata": {
    "interpreter": {
     "hash": "35ebdb571580cc633825713a9640aeeee3b64c82c4ccc5ffa03253d55de93cbb"
    }
   }
  }
 },
 "nbformat": 4,
 "nbformat_minor": 2,
 "cells": [
  {
   "cell_type": "code",
   "execution_count": 8,
   "metadata": {},
   "outputs": [
    {
     "output_type": "execute_result",
     "data": {
      "text/plain": [
       "['Australia', 'Brazil', 'Canada', 'China', 'Russia', 'United States']"
      ]
     },
     "metadata": {},
     "execution_count": 8
    }
   ],
   "source": [
    "import json\n",
    "\n",
    "data = json.load(open('worldl.json'))\n",
    "\n",
    "[c['name'] for c in data if c['area'] != None and c['area'] > 5000000]"
   ]
  },
  {
   "cell_type": "code",
   "execution_count": 9,
   "metadata": {},
   "outputs": [
    {
     "output_type": "execute_result",
     "data": {
      "text/plain": [
       "[1365370000, 1246160000, 252164800, 318320000]"
      ]
     },
     "metadata": {},
     "execution_count": 9
    }
   ],
   "source": [
    "[c['population'] for c in data if c['population'] > 250000000]"
   ]
  },
  {
   "cell_type": "code",
   "execution_count": 11,
   "metadata": {},
   "outputs": [
    {
     "output_type": "execute_result",
     "data": {
      "text/plain": [
       "1015844577"
      ]
     },
     "metadata": {},
     "execution_count": 11
    }
   ],
   "source": [
    "sum([c['population'] for c in data if c['continent'] == 'Africa'])"
   ]
  },
  {
   "cell_type": "code",
   "execution_count": null,
   "metadata": {},
   "outputs": [],
   "source": []
  }
 ]
}